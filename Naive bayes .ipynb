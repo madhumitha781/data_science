{
  "nbformat": 4,
  "nbformat_minor": 0,
  "metadata": {
    "colab": {
      "provenance": [],
      "authorship_tag": "ABX9TyNHRbpnumemcaDytxZTdOYh",
      "include_colab_link": true
    },
    "kernelspec": {
      "name": "python3",
      "display_name": "Python 3"
    },
    "language_info": {
      "name": "python"
    }
  },
  "cells": [
    {
      "cell_type": "markdown",
      "metadata": {
        "id": "view-in-github",
        "colab_type": "text"
      },
      "source": [
        "<a href=\"https://colab.research.google.com/github/madhumitha781/data_science/blob/main/Naive%20bayes%20.ipynb\" target=\"_parent\"><img src=\"https://colab.research.google.com/assets/colab-badge.svg\" alt=\"Open In Colab\"/></a>"
      ]
    },
    {
      "cell_type": "markdown",
      "source": [
        "1. Play Tennis Dataset (Classic for Weather Prediction)"
      ],
      "metadata": {
        "id": "p8vvp_xBHKoL"
      }
    },
    {
      "cell_type": "code",
      "execution_count": null,
      "metadata": {
        "colab": {
          "base_uri": "https://localhost:8080/"
        },
        "id": "tF4c6AmcFVjP",
        "outputId": "3fda71c8-3ff2-46ea-f4c0-5fd83f95a692"
      },
      "outputs": [
        {
          "output_type": "stream",
          "name": "stdout",
          "text": [
            "Test Sample: {'Outlook': 'Sunny', 'Temperature': 'Cool', 'Humidity': 'High', 'Wind': 'Strong'}\n",
            "Predicted Class: No\n",
            "Probabilities: {'No': 0.025396825396825393, 'Yes': 0.005555555555555555}\n"
          ]
        }
      ],
      "source": [
        "from collections import defaultdict\n",
        "\n",
        "data = [\n",
        "    ['Sunny', 'Hot', 'High', 'Weak', 'No'],\n",
        "    ['Sunny', 'Hot', 'High', 'Strong', 'No'],\n",
        "    ['Overcast', 'Hot', 'High', 'Weak', 'Yes'],\n",
        "    ['Rain', 'Mild', 'High', 'Weak', 'Yes'],\n",
        "    ['Rain', 'Cool', 'Normal', 'Weak', 'Yes'],\n",
        "    ['Rain', 'Cool', 'Normal', 'Strong', 'No'],\n",
        "    ['Overcast', 'Cool', 'Normal', 'Strong', 'Yes'],\n",
        "    ['Sunny', 'Mild', 'High', 'Weak', 'No'],\n",
        "    ['Sunny', 'Cool', 'Normal', 'Weak', 'Yes'],\n",
        "    ['Rain', 'Mild', 'Normal', 'Weak', 'Yes']\n",
        "]\n",
        "\n",
        "\n",
        "features = ['Outlook', 'Temperature', 'Humidity', 'Wind']\n",
        "\n",
        "\n",
        "test_sample = ['Sunny', 'Cool', 'High', 'Strong']\n",
        "\n",
        "\n",
        "label_counts = defaultdict(int)\n",
        "feature_counts = defaultdict(lambda: defaultdict(int))\n",
        "\n",
        "for row in data:\n",
        "    *attrs, label = row\n",
        "    label_counts[label] += 1\n",
        "    for i, attr in enumerate(attrs):\n",
        "        feature_counts[label, features[i]][attr] += 1\n",
        "\n",
        "\n",
        "def predict(sample):\n",
        "    total = sum(label_counts.values())\n",
        "    results = {}\n",
        "\n",
        "    for label in label_counts:\n",
        "        prob = label_counts[label] / total\n",
        "        for i, val in enumerate(sample):\n",
        "            attr_count = feature_counts[label, features[i]]\n",
        "            prob *= (attr_count[val] + 1) / (label_counts[label] + len(attr_count))\n",
        "        results[label] = prob\n",
        "\n",
        "    return max(results, key=results.get), results\n",
        "\n",
        "\n",
        "prediction, probabilities = predict(test_sample)\n",
        "print(\"Test Sample:\", dict(zip(features, test_sample)))\n",
        "print(\"Predicted Class:\", prediction)\n",
        "print(\"Probabilities:\", probabilities)\n"
      ]
    },
    {
      "cell_type": "markdown",
      "source": [
        "2. SMS Spam Collection Dataset"
      ],
      "metadata": {
        "id": "bHNZJK3HHX43"
      }
    },
    {
      "cell_type": "code",
      "source": [
        "import pandas as pd\n",
        "from sklearn.model_selection import train_test_split\n",
        "from sklearn.feature_extraction.text import TfidfVectorizer\n",
        "from sklearn.naive_bayes import MultinomialNB\n",
        "from sklearn.metrics import classification_report, accuracy_score\n",
        "\n",
        "\n",
        "df = pd.read_csv(\"/content/spam.csv\", encoding='latin-1')[['v1', 'v2']]\n",
        "df.columns = ['label', 'message']\n",
        "\n",
        "\n",
        "df['label'] = df['label'].map({'ham': 0, 'spam': 1})\n",
        "\n",
        "\n",
        "X_train, X_test, y_train, y_test = train_test_split(\n",
        "    df['message'], df['label'], test_size=0.2, random_state=42\n",
        ")\n",
        "\n",
        "\n",
        "vectorizer = TfidfVectorizer(stop_words='english')\n",
        "X_train_vec = vectorizer.fit_transform(X_train)\n",
        "X_test_vec = vectorizer.transform(X_test)\n",
        "\n",
        "\n",
        "model = MultinomialNB()\n",
        "model.fit(X_train_vec, y_train)\n",
        "\n",
        "\n",
        "y_pred = model.predict(X_test_vec)\n",
        "\n",
        "print(\"Accuracy:\", accuracy_score(y_test, y_pred))\n",
        "print(\"\\nClassification Report:\\n\", classification_report(y_test, y_pred))\n"
      ],
      "metadata": {
        "colab": {
          "base_uri": "https://localhost:8080/"
        },
        "id": "N6r8Uzt6GoDz",
        "outputId": "ce7fefd0-0bd5-4928-c85c-ef956b75cbc8"
      },
      "execution_count": null,
      "outputs": [
        {
          "output_type": "stream",
          "name": "stdout",
          "text": [
            "Accuracy: 0.9668161434977578\n",
            "\n",
            "Classification Report:\n",
            "               precision    recall  f1-score   support\n",
            "\n",
            "           0       0.96      1.00      0.98       965\n",
            "           1       1.00      0.75      0.86       150\n",
            "\n",
            "    accuracy                           0.97      1115\n",
            "   macro avg       0.98      0.88      0.92      1115\n",
            "weighted avg       0.97      0.97      0.96      1115\n",
            "\n"
          ]
        }
      ]
    },
    {
      "cell_type": "markdown",
      "source": [
        "3. Iris Dataset"
      ],
      "metadata": {
        "id": "j_ryB0kEIVuv"
      }
    },
    {
      "cell_type": "code",
      "source": [
        "from sklearn.datasets import load_iris\n",
        "from sklearn.model_selection import train_test_split\n",
        "from sklearn.naive_bayes import GaussianNB\n",
        "from sklearn.metrics import accuracy_score, classification_report\n",
        "import pandas as pd\n",
        "\n",
        "\n",
        "iris = load_iris()\n",
        "X = iris.data\n",
        "y = iris.target\n",
        "target_names = iris.target_names\n",
        "\n",
        "\n",
        "X_train, X_test, y_train, y_test = train_test_split(\n",
        "    X, y, test_size=0.3, random_state=42\n",
        ")\n",
        "\n",
        "\n",
        "model = GaussianNB()\n",
        "\n",
        "model.fit(X_train, y_train)\n",
        "\n",
        "\n",
        "y_pred = model.predict(X_test)\n",
        "\n",
        "\n",
        "print(\"Accuracy:\", accuracy_score(y_test, y_pred))\n",
        "print(\"\\nClassification Report:\\n\", classification_report(y_test, y_pred, target_names=target_names))\n"
      ],
      "metadata": {
        "colab": {
          "base_uri": "https://localhost:8080/"
        },
        "id": "XY_1N9twIbUu",
        "outputId": "e138ff93-f683-48f3-ce8c-df35a2c800c8"
      },
      "execution_count": null,
      "outputs": [
        {
          "output_type": "stream",
          "name": "stdout",
          "text": [
            "Accuracy: 0.9777777777777777\n",
            "\n",
            "Classification Report:\n",
            "               precision    recall  f1-score   support\n",
            "\n",
            "      setosa       1.00      1.00      1.00        19\n",
            "  versicolor       1.00      0.92      0.96        13\n",
            "   virginica       0.93      1.00      0.96        13\n",
            "\n",
            "    accuracy                           0.98        45\n",
            "   macro avg       0.98      0.97      0.97        45\n",
            "weighted avg       0.98      0.98      0.98        45\n",
            "\n"
          ]
        }
      ]
    },
    {
      "cell_type": "markdown",
      "source": [
        "4. Titanic Dataset"
      ],
      "metadata": {
        "id": "bhjw0I8yIodf"
      }
    },
    {
      "cell_type": "code",
      "source": [
        "import pandas as pd\n",
        "from sklearn.model_selection import train_test_split\n",
        "from sklearn.preprocessing import LabelEncoder\n",
        "from sklearn.naive_bayes import GaussianNB\n",
        "from sklearn.metrics import accuracy_score, classification_report\n",
        "\n",
        "df = pd.read_csv('/content/train.csv')\n",
        "\n",
        "df = df[['Pclass', 'Sex', 'Age', 'Fare', 'Survived']]\n",
        "\n",
        "\n",
        "df['Age'].fillna(df['Age'].mean(), inplace=True)\n",
        "\n",
        "\n",
        "le = LabelEncoder()\n",
        "df['Sex'] = le.fit_transform(df['Sex'])\n",
        "\n",
        "\n",
        "X = df[['Pclass', 'Sex', 'Age', 'Fare']]\n",
        "y = df['Survived']\n",
        "\n",
        "X_train, X_test, y_train, y_test = train_test_split(X, y, test_size=0.2, random_state=42)\n",
        "\n",
        "\n",
        "model = GaussianNB()\n",
        "model.fit(X_train, y_train)\n",
        "\n",
        "\n",
        "y_pred = model.predict(X_test)\n",
        "print(\"Accuracy:\", accuracy_score(y_test, y_pred))\n",
        "print(\"\\nClassification Report:\\n\", classification_report(y_test, y_pred))"
      ],
      "metadata": {
        "colab": {
          "base_uri": "https://localhost:8080/"
        },
        "id": "ESMt7YQfIn0E",
        "outputId": "7df27376-6d1e-4a5a-c445-4b7d86ecf4f6"
      },
      "execution_count": null,
      "outputs": [
        {
          "output_type": "stream",
          "name": "stdout",
          "text": [
            "Accuracy: 0.7597765363128491\n",
            "\n",
            "Classification Report:\n",
            "               precision    recall  f1-score   support\n",
            "\n",
            "           0       0.80      0.79      0.79       105\n",
            "           1       0.71      0.72      0.71        74\n",
            "\n",
            "    accuracy                           0.76       179\n",
            "   macro avg       0.75      0.75      0.75       179\n",
            "weighted avg       0.76      0.76      0.76       179\n",
            "\n"
          ]
        },
        {
          "output_type": "stream",
          "name": "stderr",
          "text": [
            "/tmp/ipython-input-7-1068565674.py:14: FutureWarning: A value is trying to be set on a copy of a DataFrame or Series through chained assignment using an inplace method.\n",
            "The behavior will change in pandas 3.0. This inplace method will never work because the intermediate object on which we are setting values always behaves as a copy.\n",
            "\n",
            "For example, when doing 'df[col].method(value, inplace=True)', try using 'df.method({col: value}, inplace=True)' or df[col] = df[col].method(value) instead, to perform the operation inplace on the original object.\n",
            "\n",
            "\n",
            "  df['Age'].fillna(df['Age'].mean(), inplace=True)\n"
          ]
        }
      ]
    },
    {
      "cell_type": "markdown",
      "source": [
        "5. Weather Dataset (Simplified)"
      ],
      "metadata": {
        "id": "6ScKtXp8KMJM"
      }
    },
    {
      "cell_type": "code",
      "source": [
        "from collections import defaultdict\n",
        "\n",
        "data = [\n",
        "    ['Sunny', 'Hot', False, 'No'],\n",
        "    ['Overcast', 'Cool', True, 'Yes'],\n",
        "    ['Rainy', 'Mild', False, 'Yes']\n",
        "]\n",
        "\n",
        "features = ['Outlook', 'Temp', 'Windy']\n",
        "test_sample = ['Rainy', 'Mild', False]\n",
        "\n",
        "\n",
        "label_counts = defaultdict(int)\n",
        "feature_counts = defaultdict(lambda: defaultdict(int))\n",
        "\n",
        "for row in data:\n",
        "    *attrs, label = row\n",
        "    label_counts[label] += 1\n",
        "    for i, attr in enumerate(attrs):\n",
        "        feature_counts[label, features[i]][attr] += 1\n",
        "\n",
        "\n",
        "def predict(sample):\n",
        "    total = sum(label_counts.values())\n",
        "    results = {}\n",
        "\n",
        "    for label in label_counts:\n",
        "        prob = label_counts[label] / total\n",
        "        for i, val in enumerate(sample):\n",
        "            attr_count = feature_counts[label, features[i]]\n",
        "            prob *= (attr_count[val] + 1) / (label_counts[label] + len(attr_count))\n",
        "        results[label] = prob\n",
        "\n",
        "    return max(results, key=results.get), results\n",
        "\n",
        "\n",
        "prediction, probabilities = predict(test_sample)\n",
        "print(\"Test Sample:\", dict(zip(features, test_sample)))\n",
        "print(\"Predicted Class:\", prediction)\n",
        "print(\"Probabilities:\", probabilities)\n"
      ],
      "metadata": {
        "colab": {
          "base_uri": "https://localhost:8080/"
        },
        "id": "MneYg1xxKerz",
        "outputId": "7a4cf2fd-7ef0-4c13-b88a-70bcffbeef0a"
      },
      "execution_count": null,
      "outputs": [
        {
          "output_type": "stream",
          "name": "stdout",
          "text": [
            "Test Sample: {'Outlook': 'Rainy', 'Temp': 'Mild', 'Windy': False}\n",
            "Predicted Class: Yes\n",
            "Probabilities: {'No': 0.037037037037037035, 'Yes': 0.08333333333333333}\n"
          ]
        }
      ]
    }
  ]
}