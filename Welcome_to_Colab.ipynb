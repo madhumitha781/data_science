{
  "cells": [
    {
      "cell_type": "markdown",
      "metadata": {
        "id": "view-in-github",
        "colab_type": "text"
      },
      "source": [
        "<a href=\"https://colab.research.google.com/github/madhumitha781/data_science/blob/main/Welcome_to_Colab.ipynb\" target=\"_parent\"><img src=\"https://colab.research.google.com/assets/colab-badge.svg\" alt=\"Open In Colab\"/></a>"
      ]
    },
    {
      "cell_type": "code",
      "source": [
        "import pandas as pd\n",
        "import numpy as np\n",
        "from sklearn.model_selection import train_test_split\n",
        "from sklearn.metrics import accuracy_score, mean_squared_error\n",
        "\n",
        "# Load the dataset\n",
        "df = pd.read_csv('/student-dataset.csv')  # Replace with your file\n",
        "\n",
        "# Explore data\n",
        "print(df.head())\n",
        "print(df.info())\n",
        "print(df.describe())"
      ],
      "metadata": {
        "id": "oCTQNP8ySNkL",
        "outputId": "d993b3c9-1f47-4c61-b9c7-e150efea1544",
        "colab": {
          "base_uri": "https://localhost:8080/"
        }
      },
      "execution_count": 10,
      "outputs": [
        {
          "output_type": "stream",
          "name": "stdout",
          "text": [
            "   id             name               nationality                 city  \\\n",
            "0   0        Kiana Lor                     China               Suzhou   \n",
            "1   1   Joshua Lonaker  United States of America        Santa Clarita   \n",
            "2   2    Dakota Blanco  United States of America              Oakland   \n",
            "3   3  Natasha Yarusso  United States of America        Castro Valley   \n",
            "4   4   Brooke Cazares                    Brazil  São José dos Campos   \n",
            "\n",
            "   latitude  longitude gender  ethnic.group  age  english.grade  math.grade  \\\n",
            "0     31.31     120.62      F           NaN   22            3.5         3.7   \n",
            "1     34.39    -118.54      M           NaN   22            2.9         3.2   \n",
            "2     37.80    -122.27      F           NaN   22            3.9         3.8   \n",
            "3     37.69    -122.09      F           NaN   20            3.3         2.8   \n",
            "4    -23.18     -45.88      F           NaN   21            3.7         2.6   \n",
            "\n",
            "   sciences.grade  language.grade  portfolio.rating  coverletter.rating  \\\n",
            "0             3.1             1.0                 4                 4.0   \n",
            "1             3.6             5.0                 5                 4.0   \n",
            "2             3.2             5.0                 3                 3.0   \n",
            "3             3.2             5.0                 5                 2.0   \n",
            "4             3.4             1.0                 4                 4.0   \n",
            "\n",
            "   refletter.rating  \n",
            "0                 4  \n",
            "1                 5  \n",
            "2                 4  \n",
            "3                 4  \n",
            "4                 5  \n",
            "<class 'pandas.core.frame.DataFrame'>\n",
            "RangeIndex: 307 entries, 0 to 306\n",
            "Data columns (total 16 columns):\n",
            " #   Column              Non-Null Count  Dtype  \n",
            "---  ------              --------------  -----  \n",
            " 0   id                  307 non-null    int64  \n",
            " 1   name                307 non-null    object \n",
            " 2   nationality         307 non-null    object \n",
            " 3   city                307 non-null    object \n",
            " 4   latitude            307 non-null    float64\n",
            " 5   longitude           307 non-null    float64\n",
            " 6   gender              307 non-null    object \n",
            " 7   ethnic.group        0 non-null      float64\n",
            " 8   age                 307 non-null    int64  \n",
            " 9   english.grade       307 non-null    float64\n",
            " 10  math.grade          307 non-null    float64\n",
            " 11  sciences.grade      307 non-null    float64\n",
            " 12  language.grade      307 non-null    float64\n",
            " 13  portfolio.rating    307 non-null    int64  \n",
            " 14  coverletter.rating  307 non-null    float64\n",
            " 15  refletter.rating    307 non-null    int64  \n",
            "dtypes: float64(8), int64(4), object(4)\n",
            "memory usage: 38.5+ KB\n",
            "None\n",
            "               id    latitude   longitude  ethnic.group         age  \\\n",
            "count  307.000000  307.000000  307.000000           0.0  307.000000   \n",
            "mean   153.000000   32.863388  -64.539121           NaN   21.964169   \n",
            "std     88.767487   13.498582   81.249146           NaN    1.248013   \n",
            "min      0.000000  -33.450000 -123.130000           NaN   19.000000   \n",
            "25%     76.500000   32.720000 -118.240000           NaN   21.000000   \n",
            "50%    153.000000   34.390000  -99.140000           NaN   22.000000   \n",
            "75%    229.500000   38.960000  -73.855000           NaN   23.000000   \n",
            "max    306.000000   59.890000  139.750000           NaN   26.000000   \n",
            "\n",
            "       english.grade  math.grade  sciences.grade  language.grade  \\\n",
            "count     307.000000  307.000000      307.000000      307.000000   \n",
            "mean        3.369707    3.414332        3.446580        4.396417   \n",
            "std         0.538724    0.476839        0.509081        0.996474   \n",
            "min         1.500000    2.100000        1.400000        1.000000   \n",
            "25%         3.100000    3.100000        3.200000        4.000000   \n",
            "50%         3.500000    3.500000        3.600000        5.000000   \n",
            "75%         3.800000    3.800000        3.800000        5.000000   \n",
            "max         4.000000    4.000000        4.000000        5.000000   \n",
            "\n",
            "       portfolio.rating  coverletter.rating  refletter.rating  \n",
            "count        307.000000          307.000000        307.000000  \n",
            "mean           3.986971            4.110749          4.188925  \n",
            "std            0.928749            0.823936          0.842193  \n",
            "min            1.000000            1.000000          1.000000  \n",
            "25%            3.500000            4.000000          4.000000  \n",
            "50%            4.000000            4.000000          4.000000  \n",
            "75%            5.000000            5.000000          5.000000  \n",
            "max            5.000000            5.000000          5.000000  \n"
          ]
        }
      ]
    },
    {
      "source": [
        "import pandas as pd\n",
        "df = pd.read_csv('/student-dataset.csv')\n",
        "print(df.columns)  # Print all column names"
      ],
      "cell_type": "code",
      "metadata": {
        "id": "hxAP0tKBTQEL",
        "outputId": "71590e52-b5e5-4bed-de70-70aafb53999e",
        "colab": {
          "base_uri": "https://localhost:8080/"
        }
      },
      "execution_count": 14,
      "outputs": [
        {
          "output_type": "stream",
          "name": "stdout",
          "text": [
            "Index(['id', 'name', 'nationality', 'city', 'latitude', 'longitude', 'gender',\n",
            "       'ethnic.group', 'age', 'english.grade', 'math.grade', 'sciences.grade',\n",
            "       'language.grade', 'portfolio.rating', 'coverletter.rating',\n",
            "       'refletter.rating'],\n",
            "      dtype='object')\n"
          ]
        }
      ]
    },
    {
      "source": [
        "# Handle missing values if any\n",
        "df = df.dropna()  # or use imputation\n",
        "\n",
        "# Print the columns to confirm 'Internet_available' exists\n",
        "print(df.columns)\n",
        "\n",
        "# Convert categorical variables (like Internet availability)\n",
        "# Check if the column exists before mapping\n",
        "if 'Internet_available' in df.columns:\n",
        "    df['Internet_available'] = df['Internet_available'].map({'Yes': 1, 'No': 0})\n",
        "else:\n",
        "    print(\"Column 'Internet_available' not found in the DataFrame.\")\n",
        "\n",
        "# Check target variable type\n",
        "target_type = 'numerical'  # Change based on your data"
      ],
      "cell_type": "code",
      "metadata": {
        "id": "LCHAasx3TenP",
        "outputId": "65b87eb8-ce50-4245-a196-0253778e2b2a",
        "colab": {
          "base_uri": "https://localhost:8080/"
        }
      },
      "execution_count": 16,
      "outputs": [
        {
          "output_type": "stream",
          "name": "stdout",
          "text": [
            "Index(['id', 'name', 'nationality', 'city', 'latitude', 'longitude', 'gender',\n",
            "       'ethnic.group', 'age', 'english.grade', 'math.grade', 'sciences.grade',\n",
            "       'language.grade', 'portfolio.rating', 'coverletter.rating',\n",
            "       'refletter.rating'],\n",
            "      dtype='object')\n",
            "Column 'Internet_available' not found in the DataFrame.\n"
          ]
        }
      ]
    },
    {
      "source": [
        "# Handle missing values if any\n",
        "# df = df.dropna()  # or use imputation\n",
        "# Instead of dropping all rows with missing values,\n",
        "# try imputing them with the mean or median of the column.\n",
        "for column in df.columns:\n",
        "    if df[column].isnull().any():\n",
        "        if pd.api.types.is_numeric_dtype(df[column]):\n",
        "            df[column] = df[column].fillna(df[column].mean())  # Impute with mean\n",
        "        else:\n",
        "            df[column] = df[column].fillna(df[column].mode()[0])  # Impute with mode for categorical\n",
        "\n",
        "# Print the columns to confirm 'Internet_available' exists\n",
        "print(df.columns)\n",
        "\n",
        "# ... (rest of your code)"
      ],
      "cell_type": "code",
      "metadata": {
        "id": "SSjQuVkDVmaX",
        "outputId": "89b054bd-bc84-4682-cf79-8512ef09c6c1",
        "colab": {
          "base_uri": "https://localhost:8080/"
        }
      },
      "execution_count": 19,
      "outputs": [
        {
          "output_type": "stream",
          "name": "stdout",
          "text": [
            "Index(['id', 'name', 'nationality', 'city', 'latitude', 'longitude', 'gender',\n",
            "       'ethnic.group', 'age', 'english.grade', 'math.grade', 'sciences.grade',\n",
            "       'language.grade', 'portfolio.rating', 'coverletter.rating',\n",
            "       'refletter.rating'],\n",
            "      dtype='object')\n"
          ]
        }
      ]
    },
    {
      "cell_type": "code",
      "source": [
        "from sklearn.tree import DecisionTreeClassifier\n",
        "\n",
        "X = df.drop('english.grade', axis=1)\n",
        "y = df['english.grade']\n",
        "\n",
        "X_train, X_test, y_train, y_test = train_test_split(X, y, test_size=0.2)\n",
        "\n",
        "model = DecisionTreeClassifier(max_depth=3)\n",
        "model.fit(X_train, y_train)\n",
        "predictions = model.predict(X_test)\n",
        "\n",
        "# Evaluation\n",
        "accuracy = accuracy_score(y_test, predictions)\n",
        "print(f\"Accuracy: {accuracy}\")\n",
        "\n",
        "# Visualize the tree (optional)\n",
        "from sklearn.tree import plot_tree\n",
        "import matplotlib.pyplot as plt\n",
        "plt.figure(figsize=(12,8))\n",
        "plot_tree(model, feature_names=X.columns, class_names=model.classes_, filled=True)\n",
        "plt.show()"
      ],
      "metadata": {
        "id": "925H3amRV4DA",
        "outputId": "b95afa17-86b1-49b1-96fd-0ecb52a4de87",
        "colab": {
          "base_uri": "https://localhost:8080/",
          "height": 391
        }
      },
      "execution_count": 20,
      "outputs": [
        {
          "output_type": "error",
          "ename": "ValueError",
          "evalue": "With n_samples=0, test_size=0.2 and train_size=None, the resulting train set will be empty. Adjust any of the aforementioned parameters.",
          "traceback": [
            "\u001b[0;31m---------------------------------------------------------------------------\u001b[0m",
            "\u001b[0;31mValueError\u001b[0m                                Traceback (most recent call last)",
            "\u001b[0;32m<ipython-input-20-0438f1d424f7>\u001b[0m in \u001b[0;36m<cell line: 0>\u001b[0;34m()\u001b[0m\n\u001b[1;32m      4\u001b[0m \u001b[0my\u001b[0m \u001b[0;34m=\u001b[0m \u001b[0mdf\u001b[0m\u001b[0;34m[\u001b[0m\u001b[0;34m'english.grade'\u001b[0m\u001b[0;34m]\u001b[0m\u001b[0;34m\u001b[0m\u001b[0;34m\u001b[0m\u001b[0m\n\u001b[1;32m      5\u001b[0m \u001b[0;34m\u001b[0m\u001b[0m\n\u001b[0;32m----> 6\u001b[0;31m \u001b[0mX_train\u001b[0m\u001b[0;34m,\u001b[0m \u001b[0mX_test\u001b[0m\u001b[0;34m,\u001b[0m \u001b[0my_train\u001b[0m\u001b[0;34m,\u001b[0m \u001b[0my_test\u001b[0m \u001b[0;34m=\u001b[0m \u001b[0mtrain_test_split\u001b[0m\u001b[0;34m(\u001b[0m\u001b[0mX\u001b[0m\u001b[0;34m,\u001b[0m \u001b[0my\u001b[0m\u001b[0;34m,\u001b[0m \u001b[0mtest_size\u001b[0m\u001b[0;34m=\u001b[0m\u001b[0;36m0.2\u001b[0m\u001b[0;34m)\u001b[0m\u001b[0;34m\u001b[0m\u001b[0;34m\u001b[0m\u001b[0m\n\u001b[0m\u001b[1;32m      7\u001b[0m \u001b[0;34m\u001b[0m\u001b[0m\n\u001b[1;32m      8\u001b[0m \u001b[0mmodel\u001b[0m \u001b[0;34m=\u001b[0m \u001b[0mDecisionTreeClassifier\u001b[0m\u001b[0;34m(\u001b[0m\u001b[0mmax_depth\u001b[0m\u001b[0;34m=\u001b[0m\u001b[0;36m3\u001b[0m\u001b[0;34m)\u001b[0m\u001b[0;34m\u001b[0m\u001b[0;34m\u001b[0m\u001b[0m\n",
            "\u001b[0;32m/usr/local/lib/python3.11/dist-packages/sklearn/utils/_param_validation.py\u001b[0m in \u001b[0;36mwrapper\u001b[0;34m(*args, **kwargs)\u001b[0m\n\u001b[1;32m    214\u001b[0m                     )\n\u001b[1;32m    215\u001b[0m                 ):\n\u001b[0;32m--> 216\u001b[0;31m                     \u001b[0;32mreturn\u001b[0m \u001b[0mfunc\u001b[0m\u001b[0;34m(\u001b[0m\u001b[0;34m*\u001b[0m\u001b[0margs\u001b[0m\u001b[0;34m,\u001b[0m \u001b[0;34m**\u001b[0m\u001b[0mkwargs\u001b[0m\u001b[0;34m)\u001b[0m\u001b[0;34m\u001b[0m\u001b[0;34m\u001b[0m\u001b[0m\n\u001b[0m\u001b[1;32m    217\u001b[0m             \u001b[0;32mexcept\u001b[0m \u001b[0mInvalidParameterError\u001b[0m \u001b[0;32mas\u001b[0m \u001b[0me\u001b[0m\u001b[0;34m:\u001b[0m\u001b[0;34m\u001b[0m\u001b[0;34m\u001b[0m\u001b[0m\n\u001b[1;32m    218\u001b[0m                 \u001b[0;31m# When the function is just a wrapper around an estimator, we allow\u001b[0m\u001b[0;34m\u001b[0m\u001b[0;34m\u001b[0m\u001b[0m\n",
            "\u001b[0;32m/usr/local/lib/python3.11/dist-packages/sklearn/model_selection/_split.py\u001b[0m in \u001b[0;36mtrain_test_split\u001b[0;34m(test_size, train_size, random_state, shuffle, stratify, *arrays)\u001b[0m\n\u001b[1;32m   2849\u001b[0m \u001b[0;34m\u001b[0m\u001b[0m\n\u001b[1;32m   2850\u001b[0m     \u001b[0mn_samples\u001b[0m \u001b[0;34m=\u001b[0m \u001b[0m_num_samples\u001b[0m\u001b[0;34m(\u001b[0m\u001b[0marrays\u001b[0m\u001b[0;34m[\u001b[0m\u001b[0;36m0\u001b[0m\u001b[0;34m]\u001b[0m\u001b[0;34m)\u001b[0m\u001b[0;34m\u001b[0m\u001b[0;34m\u001b[0m\u001b[0m\n\u001b[0;32m-> 2851\u001b[0;31m     n_train, n_test = _validate_shuffle_split(\n\u001b[0m\u001b[1;32m   2852\u001b[0m         \u001b[0mn_samples\u001b[0m\u001b[0;34m,\u001b[0m \u001b[0mtest_size\u001b[0m\u001b[0;34m,\u001b[0m \u001b[0mtrain_size\u001b[0m\u001b[0;34m,\u001b[0m \u001b[0mdefault_test_size\u001b[0m\u001b[0;34m=\u001b[0m\u001b[0;36m0.25\u001b[0m\u001b[0;34m\u001b[0m\u001b[0;34m\u001b[0m\u001b[0m\n\u001b[1;32m   2853\u001b[0m     )\n",
            "\u001b[0;32m/usr/local/lib/python3.11/dist-packages/sklearn/model_selection/_split.py\u001b[0m in \u001b[0;36m_validate_shuffle_split\u001b[0;34m(n_samples, test_size, train_size, default_test_size)\u001b[0m\n\u001b[1;32m   2479\u001b[0m \u001b[0;34m\u001b[0m\u001b[0m\n\u001b[1;32m   2480\u001b[0m     \u001b[0;32mif\u001b[0m \u001b[0mn_train\u001b[0m \u001b[0;34m==\u001b[0m \u001b[0;36m0\u001b[0m\u001b[0;34m:\u001b[0m\u001b[0;34m\u001b[0m\u001b[0;34m\u001b[0m\u001b[0m\n\u001b[0;32m-> 2481\u001b[0;31m         raise ValueError(\n\u001b[0m\u001b[1;32m   2482\u001b[0m             \u001b[0;34m\"With n_samples={}, test_size={} and train_size={}, the \"\u001b[0m\u001b[0;34m\u001b[0m\u001b[0;34m\u001b[0m\u001b[0m\n\u001b[1;32m   2483\u001b[0m             \u001b[0;34m\"resulting train set will be empty. Adjust any of the \"\u001b[0m\u001b[0;34m\u001b[0m\u001b[0;34m\u001b[0m\u001b[0m\n",
            "\u001b[0;31mValueError\u001b[0m: With n_samples=0, test_size=0.2 and train_size=None, the resulting train set will be empty. Adjust any of the aforementioned parameters."
          ]
        }
      ]
    }
  ],
  "metadata": {
    "colab": {
      "name": "Welcome to Colab",
      "provenance": [],
      "include_colab_link": true
    },
    "kernelspec": {
      "display_name": "Python 3",
      "name": "python3"
    }
  },
  "nbformat": 4,
  "nbformat_minor": 0
}